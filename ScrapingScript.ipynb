{
 "metadata": {
  "language_info": {
   "codemirror_mode": {
    "name": "ipython",
    "version": 3
   },
   "file_extension": ".py",
   "mimetype": "text/x-python",
   "name": "python",
   "nbconvert_exporter": "python",
   "pygments_lexer": "ipython3",
   "version": "3.8.5-final"
  },
  "orig_nbformat": 2,
  "kernelspec": {
   "name": "python3",
   "display_name": "Python 3.8.5 64-bit",
   "metadata": {
    "interpreter": {
     "hash": "31f2aee4e71d21fbe5cf8b01ff0e069b9275f58929596ceb00d14d90e3e16cd6"
    }
   }
  }
 },
 "nbformat": 4,
 "nbformat_minor": 2,
 "cells": [
  {
   "cell_type": "code",
   "execution_count": null,
   "metadata": {
    "tags": [
     "outputPrepend"
    ]
   },
   "outputs": [],
   "source": [
    "from bs4 import BeautifulSoup\n",
    "from requests import get\n",
    "url = 'https://www.blockchain.com/btc/unconfirmed-transactions'\n",
    "\n",
    "response = get(url)\n",
    "##print(response.text)"
   ]
  },
  {
   "cell_type": "code",
   "execution_count": null,
   "metadata": {},
   "outputs": [],
   "source": [
    "htmlsoup = BeautifulSoup(response.text,'html.parser')\n",
    "type(htmlsoup)"
   ]
  },
  {
   "cell_type": "code",
   "execution_count": null,
   "metadata": {
    "tags": [
     "outputPrepend"
    ]
   },
   "outputs": [],
   "source": [
    "FullContainer= htmlsoup.find_all('div',class_='fieq4h-0 eGdsW')"
   ]
  },
  {
   "cell_type": "code",
   "execution_count": null,
   "metadata": {
    "tags": []
   },
   "outputs": [],
   "source": [
    "Containers = htmlsoup.find_all('div',class_='sc-1g6z4xm-0 hXyplo')\n",
    "print(Containers)"
   ]
  },
  {
   "cell_type": "code",
   "execution_count": 113,
   "metadata": {
    "tags": []
   },
   "outputs": [],
   "source": [
    "\n",
    "\n",
    "hashnames = htmlsoup.find_all('div',class_='sc-1au2w4e-0 bTgHwk')\n",
    "timestamps = htmlsoup.find_all('div',class_='sc-1au2w4e-0 emaUuf')\n",
    "BTCamount = htmlsoup.find_all('div',class_ ='sc-1au2w4e-0 fTyXWG')\n",
    "#USDamount = htmlsoup.find_all('div',class_='')\n"
   ]
  },
  {
   "cell_type": "code",
   "execution_count": 138,
   "metadata": {
    "tags": []
   },
   "outputs": [
    {
     "output_type": "stream",
     "name": "stdout",
     "text": [
      "49.26472359\n['0.10667004', '0.22396321', '0.43071445', '0.00259951', '100.00055053', '0.00493875', '0.94371201', '0.05158232', '0.00052262', '0.01489633', '0.02211159', '0.00906394', '0.04666328', '0.00060175', '0.00095784', '0.00168589', '0.00009673', '0.02457681', '0.00159872', '0.03913629', '2.70855368', '0.00261444', '0.01717527', '49.26472359', '0.00831922', '0.95492728', '0.00498784', '0.02913118', '0.00071170', '0.55498608', '0.00321106', '0.01501482', '0.25111317', '0.00181203', '0.06622544', '0.00633463', '0.54088577', '0.00931679', '0.03586812', '0.01440444', '20.46906375', '0.00453653', '0.04230135', '0.03913906', '0.95790834', '28.52905063', '0.00765337', '0.17568371', '0.01391728']\n"
     ]
    }
   ],
   "source": [
    "import numpy as np\n",
    "BTCvalue = []\n",
    "USDvalue = []\n",
    "\n",
    "for x in range(len(BTCamount)):\n",
    "    var = BTCamount[x].text.replace(\",\",\"\").split()\n",
    "    \n",
    "    if (x%2)==0:\n",
    "        USDvalue.append(var[1][6:])\n",
    "    else:\n",
    "        BTCvalue.append(var[1][5:])\n",
    "\n",
    "\n",
    "BTCvalue =BTCvalue[1::]\n",
    "USDvalue = USDvalue[1::]\n",
    "\n",
    "maxvalue = 0\n",
    "maxhash = \"\"\n",
    "maxminute = \"\"\n",
    "for x in range(len(BTCvalue[1:])):\n",
    "    if float(BTCvalue[x][1::]) > float(maxvalue):\n",
    "       maxvalue = BTCvalue[x]\n",
    "       maxhash = hashnames[x].text\n",
    "\n",
    "print(maxvalue)\n",
    "print(BTCvalue)"
   ]
  },
  {
   "cell_type": "code",
   "execution_count": null,
   "metadata": {},
   "outputs": [],
   "source": []
  }
 ]
}