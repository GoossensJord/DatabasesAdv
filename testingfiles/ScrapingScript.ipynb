{
 "metadata": {
  "language_info": {
   "codemirror_mode": {
    "name": "ipython",
    "version": 3
   },
   "file_extension": ".py",
   "mimetype": "text/x-python",
   "name": "python",
   "nbconvert_exporter": "python",
   "pygments_lexer": "ipython3",
   "version": "3.8.5-final"
  },
  "orig_nbformat": 2,
  "kernelspec": {
   "name": "python3",
   "display_name": "Python 3.8.5 64-bit",
   "metadata": {
    "interpreter": {
     "hash": "31f2aee4e71d21fbe5cf8b01ff0e069b9275f58929596ceb00d14d90e3e16cd6"
    }
   }
  }
 },
 "nbformat": 4,
 "nbformat_minor": 2,
 "cells": [
  {
   "cell_type": "code",
   "execution_count": null,
   "metadata": {
    "tags": []
   },
   "outputs": [],
   "source": [
    "from bs4 import BeautifulSoup\n",
    "from requests import get\n",
    "url = 'https://www.blockchain.com/btc/unconfirmed-transactions'\n",
    "\n",
    "response = get(url)\n",
    "##print(response.text)"
   ]
  },
  {
   "cell_type": "code",
   "execution_count": null,
   "metadata": {},
   "outputs": [],
   "source": [
    "htmlsoup = BeautifulSoup(response.text,'html.parser')\n",
    "type(htmlsoup)"
   ]
  },
  {
   "cell_type": "code",
   "execution_count": null,
   "metadata": {
    "tags": []
   },
   "outputs": [],
   "source": [
    "\n",
    "\n",
    "hashnames = htmlsoup.find_all('div',class_='sc-1au2w4e-0 bTgHwk')\n",
    "timestamps = htmlsoup.find_all('div',class_='sc-1au2w4e-0 emaUuf')\n",
    "BTCamount = htmlsoup.find_all('div',class_ ='sc-1au2w4e-0 fTyXWG')\n",
    "#USDamount = htmlsoup.find_all('div',class_='')\n",
    "\n",
    "for x in timestamps:\n",
    "    print(x.text)\n",
    "for x in BTCamount:\n",
    "    print(x.text)\n",
    "#print(type(BTCamount))"
   ]
  },
  {
   "cell_type": "code",
   "execution_count": 39,
   "metadata": {
    "tags": []
   },
   "outputs": [
    {
     "output_type": "stream",
     "name": "stdout",
     "text": [
      "['2497.29', '231.04', '753.97', '348.03', '28319.35', '7101.76', '7691.15', '69.27', '3519.55', '478.64', '910.73', '2578.87', '307.46', '10033.65', '25.85', '611.36', '8625.86', '1067.70', '17439.91', '106194.95', '69.47', '5221.73', '286940.40', '3785.50', '64114.47', '18598.93', '3130.30', '882.14', '10335.44', '329.03', '50.71', '771.88', '1241.28', '591.40', '23817.76', '401.24', '251.68', '507.15', '248.49', '2692.78', '17159.49', '54337.67', '5418.98', '4404.90', '49819.07', '306.35', '4638.94', '37.34', '52074.63', '2688.40']\n$286940.40 Hash11546e25bd2780939c7d7eaecca2fef4ad75a7dbbe7279d2eb2ee4ce30358a4f\n"
     ]
    }
   ],
   "source": [
    "\n",
    "BTCvalue = []\n",
    "USDvalue = []\n",
    "\n",
    "for x in range(len(BTCamount)):\n",
    "    var = BTCamount[x].text.replace(\",\",\"\").split()\n",
    "    \n",
    "    if (x%2)==0:\n",
    "        BTCvalue.append(var[1][5:])\n",
    "    else:\n",
    "        USDvalue.append(var[1][6:])\n",
    "\n",
    "\n",
    "BTCvalue =BTCvalue[1::]\n",
    "USDvalue = USDvalue[1::]\n",
    "print(USDvalue)\n",
    "maxvalue = 0\n",
    "maxhash = \"\"\n",
    "maxminute = \"\"\n",
    "for x in range(len(BTCvalue)):\n",
    "    if float(USDvalue[x]) > float(maxvalue):\n",
    "       maxvalue = USDvalue[x]\n",
    "       maxhash = hashnames[x].text\n",
    "\n",
    "print(\"$ \" + maxvalue, maxhash)\n"
   ]
  },
  {
   "cell_type": "code",
   "execution_count": 43,
   "metadata": {},
   "outputs": [
    {
     "output_type": "stream",
     "name": "stdout",
     "text": [
      "102\n"
     ]
    }
   ],
   "source": [
    "print(len(BTCamount))"
   ]
  },
  {
   "cell_type": "code",
   "execution_count": null,
   "metadata": {},
   "outputs": [],
   "source": []
  }
 ]
}